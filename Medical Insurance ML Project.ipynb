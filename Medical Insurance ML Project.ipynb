{
 "cells": [
  {
   "cell_type": "code",
   "execution_count": 1,
   "id": "79af2a2f-e616-48b2-b0ef-1df0038c71cd",
   "metadata": {},
   "outputs": [],
   "source": [
    "import numpy as np\n",
    "import pandas as pd\n",
    "import matplotlib.pyplot as plt\n",
    "import seaborn as sns\n",
    "import warnings\n",
    "warnings.filterwarnings('ignore')"
   ]
  },
  {
   "cell_type": "code",
   "execution_count": 2,
   "id": "74c13698-8819-4702-b4a4-efba1671bb35",
   "metadata": {},
   "outputs": [
    {
     "data": {
      "text/html": [
       "<div>\n",
       "<style scoped>\n",
       "    .dataframe tbody tr th:only-of-type {\n",
       "        vertical-align: middle;\n",
       "    }\n",
       "\n",
       "    .dataframe tbody tr th {\n",
       "        vertical-align: top;\n",
       "    }\n",
       "\n",
       "    .dataframe thead th {\n",
       "        text-align: right;\n",
       "    }\n",
       "</style>\n",
       "<table border=\"1\" class=\"dataframe\">\n",
       "  <thead>\n",
       "    <tr style=\"text-align: right;\">\n",
       "      <th></th>\n",
       "      <th>age</th>\n",
       "      <th>sex</th>\n",
       "      <th>bmi</th>\n",
       "      <th>children</th>\n",
       "      <th>smoker</th>\n",
       "      <th>region</th>\n",
       "      <th>charges</th>\n",
       "    </tr>\n",
       "  </thead>\n",
       "  <tbody>\n",
       "    <tr>\n",
       "      <th>0</th>\n",
       "      <td>19</td>\n",
       "      <td>female</td>\n",
       "      <td>27.900</td>\n",
       "      <td>0</td>\n",
       "      <td>yes</td>\n",
       "      <td>southwest</td>\n",
       "      <td>16884.92400</td>\n",
       "    </tr>\n",
       "    <tr>\n",
       "      <th>1</th>\n",
       "      <td>18</td>\n",
       "      <td>male</td>\n",
       "      <td>33.770</td>\n",
       "      <td>1</td>\n",
       "      <td>no</td>\n",
       "      <td>southeast</td>\n",
       "      <td>1725.55230</td>\n",
       "    </tr>\n",
       "    <tr>\n",
       "      <th>2</th>\n",
       "      <td>28</td>\n",
       "      <td>male</td>\n",
       "      <td>33.000</td>\n",
       "      <td>3</td>\n",
       "      <td>no</td>\n",
       "      <td>southeast</td>\n",
       "      <td>4449.46200</td>\n",
       "    </tr>\n",
       "    <tr>\n",
       "      <th>3</th>\n",
       "      <td>33</td>\n",
       "      <td>male</td>\n",
       "      <td>22.705</td>\n",
       "      <td>0</td>\n",
       "      <td>no</td>\n",
       "      <td>northwest</td>\n",
       "      <td>21984.47061</td>\n",
       "    </tr>\n",
       "    <tr>\n",
       "      <th>4</th>\n",
       "      <td>32</td>\n",
       "      <td>male</td>\n",
       "      <td>28.880</td>\n",
       "      <td>0</td>\n",
       "      <td>no</td>\n",
       "      <td>northwest</td>\n",
       "      <td>3866.85520</td>\n",
       "    </tr>\n",
       "    <tr>\n",
       "      <th>...</th>\n",
       "      <td>...</td>\n",
       "      <td>...</td>\n",
       "      <td>...</td>\n",
       "      <td>...</td>\n",
       "      <td>...</td>\n",
       "      <td>...</td>\n",
       "      <td>...</td>\n",
       "    </tr>\n",
       "    <tr>\n",
       "      <th>2767</th>\n",
       "      <td>47</td>\n",
       "      <td>female</td>\n",
       "      <td>45.320</td>\n",
       "      <td>1</td>\n",
       "      <td>no</td>\n",
       "      <td>southeast</td>\n",
       "      <td>8569.86180</td>\n",
       "    </tr>\n",
       "    <tr>\n",
       "      <th>2768</th>\n",
       "      <td>21</td>\n",
       "      <td>female</td>\n",
       "      <td>34.600</td>\n",
       "      <td>0</td>\n",
       "      <td>no</td>\n",
       "      <td>southwest</td>\n",
       "      <td>2020.17700</td>\n",
       "    </tr>\n",
       "    <tr>\n",
       "      <th>2769</th>\n",
       "      <td>19</td>\n",
       "      <td>male</td>\n",
       "      <td>26.030</td>\n",
       "      <td>1</td>\n",
       "      <td>yes</td>\n",
       "      <td>northwest</td>\n",
       "      <td>16450.89470</td>\n",
       "    </tr>\n",
       "    <tr>\n",
       "      <th>2770</th>\n",
       "      <td>23</td>\n",
       "      <td>male</td>\n",
       "      <td>18.715</td>\n",
       "      <td>0</td>\n",
       "      <td>no</td>\n",
       "      <td>northwest</td>\n",
       "      <td>21595.38229</td>\n",
       "    </tr>\n",
       "    <tr>\n",
       "      <th>2771</th>\n",
       "      <td>54</td>\n",
       "      <td>male</td>\n",
       "      <td>31.600</td>\n",
       "      <td>0</td>\n",
       "      <td>no</td>\n",
       "      <td>southwest</td>\n",
       "      <td>9850.43200</td>\n",
       "    </tr>\n",
       "  </tbody>\n",
       "</table>\n",
       "<p>2772 rows × 7 columns</p>\n",
       "</div>"
      ],
      "text/plain": [
       "      age     sex     bmi  children smoker     region      charges\n",
       "0      19  female  27.900         0    yes  southwest  16884.92400\n",
       "1      18    male  33.770         1     no  southeast   1725.55230\n",
       "2      28    male  33.000         3     no  southeast   4449.46200\n",
       "3      33    male  22.705         0     no  northwest  21984.47061\n",
       "4      32    male  28.880         0     no  northwest   3866.85520\n",
       "...   ...     ...     ...       ...    ...        ...          ...\n",
       "2767   47  female  45.320         1     no  southeast   8569.86180\n",
       "2768   21  female  34.600         0     no  southwest   2020.17700\n",
       "2769   19    male  26.030         1    yes  northwest  16450.89470\n",
       "2770   23    male  18.715         0     no  northwest  21595.38229\n",
       "2771   54    male  31.600         0     no  southwest   9850.43200\n",
       "\n",
       "[2772 rows x 7 columns]"
      ]
     },
     "execution_count": 2,
     "metadata": {},
     "output_type": "execute_result"
    }
   ],
   "source": [
    "# IMPORTING THE DATA SET\n",
    "\n",
    "df=pd.read_csv('MEDICAL INSURANCE.csv')\n",
    "df"
   ]
  },
  {
   "cell_type": "code",
   "execution_count": 3,
   "id": "9acbb99d-4530-4f65-b866-51626b3cfe55",
   "metadata": {},
   "outputs": [
    {
     "data": {
      "text/plain": [
       "(2772, 7)"
      ]
     },
     "execution_count": 3,
     "metadata": {},
     "output_type": "execute_result"
    }
   ],
   "source": [
    "df.shape"
   ]
  },
  {
   "cell_type": "code",
   "execution_count": 4,
   "id": "3a18fb7b-541e-46d9-8da2-31f1fc3029b9",
   "metadata": {},
   "outputs": [
    {
     "data": {
      "text/plain": [
       "age           int64\n",
       "sex          object\n",
       "bmi         float64\n",
       "children      int64\n",
       "smoker       object\n",
       "region       object\n",
       "charges     float64\n",
       "dtype: object"
      ]
     },
     "execution_count": 4,
     "metadata": {},
     "output_type": "execute_result"
    }
   ],
   "source": [
    "#CHECHING FOR THE DATA TYPES OF EACH COLUMN\n",
    "df.dtypes"
   ]
  },
  {
   "cell_type": "code",
   "execution_count": 5,
   "id": "031a2fdf-c46c-4f1b-8db8-624bc9bc2bab",
   "metadata": {},
   "outputs": [
    {
     "data": {
      "text/plain": [
       "age         0\n",
       "sex         0\n",
       "bmi         0\n",
       "children    0\n",
       "smoker      0\n",
       "region      0\n",
       "charges     0\n",
       "dtype: int64"
      ]
     },
     "execution_count": 5,
     "metadata": {},
     "output_type": "execute_result"
    }
   ],
   "source": [
    "#CHECKING FOR NULL VALUES\n",
    "df.isnull().sum()"
   ]
  },
  {
   "cell_type": "code",
   "execution_count": 6,
   "id": "c27dd081-be3c-4c88-9f39-578690b5e99d",
   "metadata": {},
   "outputs": [
    {
     "name": "stdout",
     "output_type": "stream",
     "text": [
      "<class 'pandas.core.frame.DataFrame'>\n",
      "RangeIndex: 2772 entries, 0 to 2771\n",
      "Data columns (total 7 columns):\n",
      " #   Column    Non-Null Count  Dtype  \n",
      "---  ------    --------------  -----  \n",
      " 0   age       2772 non-null   int64  \n",
      " 1   sex       2772 non-null   object \n",
      " 2   bmi       2772 non-null   float64\n",
      " 3   children  2772 non-null   int64  \n",
      " 4   smoker    2772 non-null   object \n",
      " 5   region    2772 non-null   object \n",
      " 6   charges   2772 non-null   float64\n",
      "dtypes: float64(2), int64(2), object(3)\n",
      "memory usage: 151.7+ KB\n"
     ]
    }
   ],
   "source": [
    "df.info()"
   ]
  },
  {
   "cell_type": "code",
   "execution_count": 7,
   "id": "364239ae-b382-4af6-ada1-adc708dbfb13",
   "metadata": {},
   "outputs": [
    {
     "data": {
      "text/plain": [
       "age           47\n",
       "sex            2\n",
       "bmi          548\n",
       "children       6\n",
       "smoker         2\n",
       "region         4\n",
       "charges     1337\n",
       "dtype: int64"
      ]
     },
     "execution_count": 7,
     "metadata": {},
     "output_type": "execute_result"
    }
   ],
   "source": [
    "df.nunique()"
   ]
  },
  {
   "cell_type": "code",
   "execution_count": 8,
   "id": "07a67b5f-a56a-4c6b-aadd-e65aee521e93",
   "metadata": {},
   "outputs": [
    {
     "name": "stdout",
     "output_type": "stream",
     "text": [
      "age\n",
      "18    148\n",
      "19    142\n",
      "47     62\n",
      "52     62\n",
      "45     62\n",
      "23     62\n",
      "46     60\n",
      "54     60\n",
      "51     60\n",
      "28     60\n",
      "21     60\n",
      "22     60\n",
      "26     60\n",
      "25     58\n",
      "50     58\n",
      "27     58\n",
      "20     58\n",
      "53     58\n",
      "48     58\n",
      "49     56\n",
      "44     56\n",
      "41     56\n",
      "24     56\n",
      "32     56\n",
      "30     56\n",
      "56     56\n",
      "39     54\n",
      "33     54\n",
      "42     54\n",
      "40     54\n",
      "43     54\n",
      "31     54\n",
      "57     54\n",
      "29     54\n",
      "37     52\n",
      "59     52\n",
      "58     52\n",
      "34     52\n",
      "55     52\n",
      "35     50\n",
      "36     50\n",
      "38     50\n",
      "62     48\n",
      "60     46\n",
      "64     46\n",
      "63     46\n",
      "61     46\n",
      "Name: count, dtype: int64\n",
      "sex\n",
      "male      1406\n",
      "female    1366\n",
      "Name: count, dtype: int64\n",
      "bmi\n",
      "32.300    26\n",
      "28.310    18\n",
      "33.330    16\n",
      "30.800    16\n",
      "30.875    16\n",
      "          ..\n",
      "46.200     2\n",
      "23.800     2\n",
      "44.770     2\n",
      "32.120     2\n",
      "30.970     2\n",
      "Name: count, Length: 548, dtype: int64\n",
      "children\n",
      "0    1186\n",
      "1     672\n",
      "2     496\n",
      "3     324\n",
      "4      52\n",
      "5      42\n",
      "Name: count, dtype: int64\n",
      "smoker\n",
      "no     2208\n",
      "yes     564\n",
      "Name: count, dtype: int64\n",
      "region\n",
      "southeast    766\n",
      "southwest    684\n",
      "northwest    664\n",
      "northeast    658\n",
      "Name: count, dtype: int64\n",
      "charges\n",
      "8798.59300     4\n",
      "8569.86180     4\n",
      "1633.96180     4\n",
      "37607.52770    4\n",
      "32108.66282    4\n",
      "              ..\n",
      "7512.26700     2\n",
      "4762.32900     2\n",
      "5910.94400     2\n",
      "11454.02150    2\n",
      "29141.36030    2\n",
      "Name: count, Length: 1337, dtype: int64\n"
     ]
    }
   ],
   "source": [
    "#CHECKING FOR THE COUNT OF EVERY VALUES IN EACH COULMNS\n",
    "for i in df.columns: \n",
    "    print(df[i].value_counts())"
   ]
  },
  {
   "cell_type": "code",
   "execution_count": 9,
   "id": "5e8a4eea-a2d0-4281-9c40-b88adafecda5",
   "metadata": {},
   "outputs": [
    {
     "data": {
      "text/html": [
       "<div>\n",
       "<style scoped>\n",
       "    .dataframe tbody tr th:only-of-type {\n",
       "        vertical-align: middle;\n",
       "    }\n",
       "\n",
       "    .dataframe tbody tr th {\n",
       "        vertical-align: top;\n",
       "    }\n",
       "\n",
       "    .dataframe thead th {\n",
       "        text-align: right;\n",
       "    }\n",
       "</style>\n",
       "<table border=\"1\" class=\"dataframe\">\n",
       "  <thead>\n",
       "    <tr style=\"text-align: right;\">\n",
       "      <th></th>\n",
       "      <th>age</th>\n",
       "      <th>bmi</th>\n",
       "      <th>children</th>\n",
       "      <th>charges</th>\n",
       "    </tr>\n",
       "  </thead>\n",
       "  <tbody>\n",
       "    <tr>\n",
       "      <th>count</th>\n",
       "      <td>2772.000000</td>\n",
       "      <td>2772.000000</td>\n",
       "      <td>2772.000000</td>\n",
       "      <td>2772.000000</td>\n",
       "    </tr>\n",
       "    <tr>\n",
       "      <th>mean</th>\n",
       "      <td>39.109668</td>\n",
       "      <td>30.701349</td>\n",
       "      <td>1.101732</td>\n",
       "      <td>13261.369959</td>\n",
       "    </tr>\n",
       "    <tr>\n",
       "      <th>std</th>\n",
       "      <td>14.081459</td>\n",
       "      <td>6.129449</td>\n",
       "      <td>1.214806</td>\n",
       "      <td>12151.768945</td>\n",
       "    </tr>\n",
       "    <tr>\n",
       "      <th>min</th>\n",
       "      <td>18.000000</td>\n",
       "      <td>15.960000</td>\n",
       "      <td>0.000000</td>\n",
       "      <td>1121.873900</td>\n",
       "    </tr>\n",
       "    <tr>\n",
       "      <th>25%</th>\n",
       "      <td>26.000000</td>\n",
       "      <td>26.220000</td>\n",
       "      <td>0.000000</td>\n",
       "      <td>4687.797000</td>\n",
       "    </tr>\n",
       "    <tr>\n",
       "      <th>50%</th>\n",
       "      <td>39.000000</td>\n",
       "      <td>30.447500</td>\n",
       "      <td>1.000000</td>\n",
       "      <td>9333.014350</td>\n",
       "    </tr>\n",
       "    <tr>\n",
       "      <th>75%</th>\n",
       "      <td>51.000000</td>\n",
       "      <td>34.770000</td>\n",
       "      <td>2.000000</td>\n",
       "      <td>16577.779500</td>\n",
       "    </tr>\n",
       "    <tr>\n",
       "      <th>max</th>\n",
       "      <td>64.000000</td>\n",
       "      <td>53.130000</td>\n",
       "      <td>5.000000</td>\n",
       "      <td>63770.428010</td>\n",
       "    </tr>\n",
       "  </tbody>\n",
       "</table>\n",
       "</div>"
      ],
      "text/plain": [
       "               age          bmi     children       charges\n",
       "count  2772.000000  2772.000000  2772.000000   2772.000000\n",
       "mean     39.109668    30.701349     1.101732  13261.369959\n",
       "std      14.081459     6.129449     1.214806  12151.768945\n",
       "min      18.000000    15.960000     0.000000   1121.873900\n",
       "25%      26.000000    26.220000     0.000000   4687.797000\n",
       "50%      39.000000    30.447500     1.000000   9333.014350\n",
       "75%      51.000000    34.770000     2.000000  16577.779500\n",
       "max      64.000000    53.130000     5.000000  63770.428010"
      ]
     },
     "execution_count": 9,
     "metadata": {},
     "output_type": "execute_result"
    }
   ],
   "source": [
    "df.describe()"
   ]
  },
  {
   "cell_type": "code",
   "execution_count": 10,
   "id": "8768b71e-5b0e-4109-93e5-47ca2727e374",
   "metadata": {},
   "outputs": [
    {
     "data": {
      "image/png": "[encoded data removed]",
      "text/plain": [
       "<Figure size 600x600 with 1 Axes>"
      ]
     },
     "metadata": {},
     "output_type": "display_data"
    }
   ],
   "source": [
    "#DISTRIBUTION OF AGE\n",
    "\n",
    "plt.figure(figsize=(6,6))\n",
    "sns.distplot(df['age'])\n",
    "plt.title('DISTRIBUTION OF AGE')\n",
    "plt.show()\n"
   ]
  },
  {
   "cell_type": "code",
   "execution_count": 11,
   "id": "cb49e822-0c6c-4f2d-846f-5e1997264aa1",
   "metadata": {},
   "outputs": [
    {
     "data": {
      "image/png": "[encoded data removed]",
      "text/plain": [
       "<Figure size 600x600 with 1 Axes>"
      ]
     },
     "metadata": {},
     "output_type": "display_data"
    }
   ],
   "source": [
    "#COUNT OF SMOKER\n",
    "\n",
    "plt.figure(figsize=(6,6))\n",
    "smoker=['Yes', 'No']\n",
    "share=[247,753]\n",
    "colors=['orange','green']\n",
    "plt.style.use('ggplot')\n",
    "plt.title('COUNT OF SMOKER ')\n",
    "plt.pie(x=share,labels=smoker,colors=colors,autopct='%.1f',startangle=90)\n",
    "circle=plt.Circle(xy=(0,0), radius=0.75, facecolor='white')\n",
    "plt.gca().add_artist(circle)\n",
    "plt.show()"
   ]
  },
  {
   "cell_type": "code",
   "execution_count": 12,
   "id": "99d9a54b-bdb9-45c7-9ebc-d0f037efa293",
   "metadata": {},
   "outputs": [
    {
     "data": {
      "image/png": "[encoded data removed]",
      "text/plain": [
       "<Figure size 640x480 with 1 Axes>"
      ]
     },
     "metadata": {},
     "output_type": "display_data"
    }
   ],
   "source": [
    "# Count of Male and Female \n",
    "\n",
    "sns.countplot(x='sex',data=df , color='orange')\n",
    "plt.show()"
   ]
  },
  {
   "cell_type": "code",
   "execution_count": 13,
   "id": "6fb1e8e6-bb60-4446-ae23-98dcdb294304",
   "metadata": {},
   "outputs": [
    {
     "data": {
      "image/png": "[encoded data removed]",
      "text/plain": [
       "<Figure size 640x480 with 1 Axes>"
      ]
     },
     "metadata": {},
     "output_type": "display_data"
    }
   ],
   "source": [
    "# Count of Each region\n",
    "\n",
    "sns.countplot(x='region',data=df , color='brown')\n",
    "plt.show()\n"
   ]
  },
  {
   "cell_type": "code",
   "execution_count": 14,
   "id": "923d391c-4afe-4253-9bdc-3a5bfe5d913f",
   "metadata": {},
   "outputs": [
    {
     "data": {
      "image/png": "[encoded data removed]",
      "text/plain": [
       "<Figure size 640x480 with 1 Axes>"
      ]
     },
     "metadata": {},
     "output_type": "display_data"
    }
   ],
   "source": [
    "# sex wise smoker\n",
    "\n",
    "sns.countplot(x='sex',hue='smoker',data=df)\n",
    "plt.show()"
   ]
  },
  {
   "cell_type": "code",
   "execution_count": 15,
   "id": "dd55205f-6526-4462-b1c2-4994771cfa8e",
   "metadata": {},
   "outputs": [
    {
     "data": {
      "image/png": "[encoded data removed]",
      "text/plain": [
       "<Figure size 1200x800 with 1 Axes>"
      ]
     },
     "metadata": {},
     "output_type": "display_data"
    }
   ],
   "source": [
    "# Age wise smoker\n",
    "\n",
    "plt.figure(figsize=(12,8))\n",
    "sns.countplot(x='age',hue='smoker',data=df)\n",
    "plt.show()"
   ]
  },
  {
   "cell_type": "code",
   "execution_count": 16,
   "id": "2bbfb7cb-c5ad-4124-815b-5f83f47c03a6",
   "metadata": {},
   "outputs": [
    {
     "data": {
      "image/png": "[encoded data removed]",
      "text/plain": [
       "<Figure size 640x480 with 1 Axes>"
      ]
     },
     "metadata": {},
     "output_type": "display_data"
    },
    {
     "data": {
      "text/plain": [
       "<Figure size 1200x600 with 0 Axes>"
      ]
     },
     "metadata": {},
     "output_type": "display_data"
    }
   ],
   "source": [
    "# Region wise smoker\n",
    "\n",
    "sns.countplot(x='region',hue='smoker',data=df)\n",
    "plt.figure(figsize=(12,6))\n",
    "plt.show()"
   ]
  },
  {
   "cell_type": "code",
   "execution_count": 17,
   "id": "1cc30f24-1d29-4d04-b137-ab0a480924a6",
   "metadata": {},
   "outputs": [
    {
     "data": {
      "image/png": "[encoded data removed]",
      "text/plain": [
       "<Figure size 640x480 with 1 Axes>"
      ]
     },
     "metadata": {},
     "output_type": "display_data"
    }
   ],
   "source": [
    "# Count of childrens\n",
    "\n",
    "sns.countplot(x='children',data=df , color='orange')\n",
    "plt.show()"
   ]
  },
  {
   "cell_type": "code",
   "execution_count": 18,
   "id": "1551382b-4350-41ed-be75-834eb0d43e2b",
   "metadata": {},
   "outputs": [
    {
     "data": {
      "image/png": "[encoded data removed]",
      "text/plain": [
       "<Figure size 640x480 with 1 Axes>"
      ]
     },
     "metadata": {},
     "output_type": "display_data"
    },
    {
     "data": {
      "text/plain": [
       "<Figure size 1200x600 with 0 Axes>"
      ]
     },
     "metadata": {},
     "output_type": "display_data"
    }
   ],
   "source": [
    "#  Region wise sex\n",
    "\n",
    "sns.countplot(x='region',hue='sex',data=df)\n",
    "plt.figure(figsize=(12,6))\n",
    "plt.show()"
   ]
  },
  {
   "cell_type": "code",
   "execution_count": 19,
   "id": "311a7be4-317c-4d55-8071-0a7993a377be",
   "metadata": {},
   "outputs": [
    {
     "data": {
      "image/png": "[encoded data removed]",
      "text/plain": [
       "<Figure size 1200x600 with 1 Axes>"
      ]
     },
     "metadata": {},
     "output_type": "display_data"
    }
   ],
   "source": [
    "# count of region wise childrens\n",
    "\n",
    "plt.figure(figsize=(12,6))\n",
    "sns.countplot(x='region',hue='children',data=df)\n",
    "plt.show()"
   ]
  },
  {
   "cell_type": "code",
   "execution_count": 20,
   "id": "da4a55e9-6b4d-4538-a2de-7c37382777b0",
   "metadata": {},
   "outputs": [
    {
     "data": {
      "text/plain": [
       "age            Axes(0.125,0.77;0.110714x0.11)\n",
       "bmi         Axes(0.257857,0.77;0.110714x0.11)\n",
       "children    Axes(0.390714,0.77;0.110714x0.11)\n",
       "charges     Axes(0.523571,0.77;0.110714x0.11)\n",
       "dtype: object"
      ]
     },
     "execution_count": 20,
     "metadata": {},
     "output_type": "execute_result"
    },
    {
     "data": {
      "image/png": "[encoded data removed]",
      "text/plain": [
       "<Figure size 1600x1600 with 36 Axes>"
      ]
     },
     "metadata": {},
     "output_type": "display_data"
    }
   ],
   "source": [
    " #CHECKING FOR OUTLIERS\n",
    "\n",
    "df.plot(kind='box',subplots=True,figsize=(16,16),layout=(6,6))"
   ]
  },
  {
   "cell_type": "code",
   "execution_count": 21,
   "id": "fddcaff7-4ce7-4c88-9972-d36cea63df83",
   "metadata": {},
   "outputs": [
    {
     "data": {
      "text/html": [
       "<div>\n",
       "<style scoped>\n",
       "    .dataframe tbody tr th:only-of-type {\n",
       "        vertical-align: middle;\n",
       "    }\n",
       "\n",
       "    .dataframe tbody tr th {\n",
       "        vertical-align: top;\n",
       "    }\n",
       "\n",
       "    .dataframe thead th {\n",
       "        text-align: right;\n",
       "    }\n",
       "</style>\n",
       "<table border=\"1\" class=\"dataframe\">\n",
       "  <thead>\n",
       "    <tr style=\"text-align: right;\">\n",
       "      <th></th>\n",
       "      <th>bmi</th>\n",
       "      <th>charges</th>\n",
       "    </tr>\n",
       "  </thead>\n",
       "  <tbody>\n",
       "    <tr>\n",
       "      <th>0</th>\n",
       "      <td>0.457114</td>\n",
       "      <td>0.298245</td>\n",
       "    </tr>\n",
       "    <tr>\n",
       "      <th>1</th>\n",
       "      <td>0.500731</td>\n",
       "      <td>0.949483</td>\n",
       "    </tr>\n",
       "    <tr>\n",
       "      <th>2</th>\n",
       "      <td>0.375085</td>\n",
       "      <td>0.725285</td>\n",
       "    </tr>\n",
       "    <tr>\n",
       "      <th>3</th>\n",
       "      <td>1.304814</td>\n",
       "      <td>0.717976</td>\n",
       "    </tr>\n",
       "    <tr>\n",
       "      <th>4</th>\n",
       "      <td>0.297201</td>\n",
       "      <td>0.773238</td>\n",
       "    </tr>\n",
       "    <tr>\n",
       "      <th>...</th>\n",
       "      <td>...</td>\n",
       "      <td>...</td>\n",
       "    </tr>\n",
       "    <tr>\n",
       "      <th>2767</th>\n",
       "      <td>2.385417</td>\n",
       "      <td>0.386146</td>\n",
       "    </tr>\n",
       "    <tr>\n",
       "      <th>2768</th>\n",
       "      <td>0.636167</td>\n",
       "      <td>0.925233</td>\n",
       "    </tr>\n",
       "    <tr>\n",
       "      <th>2769</th>\n",
       "      <td>0.762253</td>\n",
       "      <td>0.262521</td>\n",
       "    </tr>\n",
       "    <tr>\n",
       "      <th>2770</th>\n",
       "      <td>1.955887</td>\n",
       "      <td>0.685951</td>\n",
       "    </tr>\n",
       "    <tr>\n",
       "      <th>2771</th>\n",
       "      <td>0.146638</td>\n",
       "      <td>0.280745</td>\n",
       "    </tr>\n",
       "  </tbody>\n",
       "</table>\n",
       "<p>2772 rows × 2 columns</p>\n",
       "</div>"
      ],
      "text/plain": [
       "           bmi   charges\n",
       "0     0.457114  0.298245\n",
       "1     0.500731  0.949483\n",
       "2     0.375085  0.725285\n",
       "3     1.304814  0.717976\n",
       "4     0.297201  0.773238\n",
       "...        ...       ...\n",
       "2767  2.385417  0.386146\n",
       "2768  0.636167  0.925233\n",
       "2769  0.762253  0.262521\n",
       "2770  1.955887  0.685951\n",
       "2771  0.146638  0.280745\n",
       "\n",
       "[2772 rows x 2 columns]"
      ]
     },
     "execution_count": 21,
     "metadata": {},
     "output_type": "execute_result"
    }
   ],
   "source": [
    "from scipy.stats import zscore\n",
    "a=df[['bmi','charges']]\n",
    "z=np.abs(zscore(a))\n",
    "z"
   ]
  },
  {
   "cell_type": "code",
   "execution_count": 22,
   "id": "d79ec2c9-614b-445b-8d90-fc5244e38c57",
   "metadata": {},
   "outputs": [
    {
     "name": "stdout",
     "output_type": "stream",
     "text": [
      "(array([  34,  543,  577,  819,  847, 1047, 1146, 1230, 1300, 1317, 1420,\n",
      "       1929, 1963, 2205, 2233, 2433, 2532, 2616, 2686, 2703], dtype=int64), array([1, 1, 1, 1, 0, 0, 1, 1, 1, 0, 1, 1, 1, 1, 0, 0, 1, 1, 1, 0],\n",
      "      dtype=int64))\n"
     ]
    }
   ],
   "source": [
    "print(np.where(z>3))"
   ]
  },
  {
   "cell_type": "code",
   "execution_count": 23,
   "id": "734cf91d-d2b9-4eb4-8d13-d826697d93ff",
   "metadata": {},
   "outputs": [
    {
     "data": {
      "text/html": [
       "<div>\n",
       "<style scoped>\n",
       "    .dataframe tbody tr th:only-of-type {\n",
       "        vertical-align: middle;\n",
       "    }\n",
       "\n",
       "    .dataframe tbody tr th {\n",
       "        vertical-align: top;\n",
       "    }\n",
       "\n",
       "    .dataframe thead th {\n",
       "        text-align: right;\n",
       "    }\n",
       "</style>\n",
       "<table border=\"1\" class=\"dataframe\">\n",
       "  <thead>\n",
       "    <tr style=\"text-align: right;\">\n",
       "      <th></th>\n",
       "      <th>age</th>\n",
       "      <th>sex</th>\n",
       "      <th>bmi</th>\n",
       "      <th>children</th>\n",
       "      <th>smoker</th>\n",
       "      <th>region</th>\n",
       "      <th>charges</th>\n",
       "    </tr>\n",
       "  </thead>\n",
       "  <tbody>\n",
       "    <tr>\n",
       "      <th>0</th>\n",
       "      <td>19</td>\n",
       "      <td>female</td>\n",
       "      <td>27.900</td>\n",
       "      <td>0</td>\n",
       "      <td>yes</td>\n",
       "      <td>southwest</td>\n",
       "      <td>16884.92400</td>\n",
       "    </tr>\n",
       "    <tr>\n",
       "      <th>1</th>\n",
       "      <td>18</td>\n",
       "      <td>male</td>\n",
       "      <td>33.770</td>\n",
       "      <td>1</td>\n",
       "      <td>no</td>\n",
       "      <td>southeast</td>\n",
       "      <td>1725.55230</td>\n",
       "    </tr>\n",
       "    <tr>\n",
       "      <th>2</th>\n",
       "      <td>28</td>\n",
       "      <td>male</td>\n",
       "      <td>33.000</td>\n",
       "      <td>3</td>\n",
       "      <td>no</td>\n",
       "      <td>southeast</td>\n",
       "      <td>4449.46200</td>\n",
       "    </tr>\n",
       "    <tr>\n",
       "      <th>3</th>\n",
       "      <td>33</td>\n",
       "      <td>male</td>\n",
       "      <td>22.705</td>\n",
       "      <td>0</td>\n",
       "      <td>no</td>\n",
       "      <td>northwest</td>\n",
       "      <td>21984.47061</td>\n",
       "    </tr>\n",
       "    <tr>\n",
       "      <th>4</th>\n",
       "      <td>32</td>\n",
       "      <td>male</td>\n",
       "      <td>28.880</td>\n",
       "      <td>0</td>\n",
       "      <td>no</td>\n",
       "      <td>northwest</td>\n",
       "      <td>3866.85520</td>\n",
       "    </tr>\n",
       "    <tr>\n",
       "      <th>...</th>\n",
       "      <td>...</td>\n",
       "      <td>...</td>\n",
       "      <td>...</td>\n",
       "      <td>...</td>\n",
       "      <td>...</td>\n",
       "      <td>...</td>\n",
       "      <td>...</td>\n",
       "    </tr>\n",
       "    <tr>\n",
       "      <th>2767</th>\n",
       "      <td>47</td>\n",
       "      <td>female</td>\n",
       "      <td>45.320</td>\n",
       "      <td>1</td>\n",
       "      <td>no</td>\n",
       "      <td>southeast</td>\n",
       "      <td>8569.86180</td>\n",
       "    </tr>\n",
       "    <tr>\n",
       "      <th>2768</th>\n",
       "      <td>21</td>\n",
       "      <td>female</td>\n",
       "      <td>34.600</td>\n",
       "      <td>0</td>\n",
       "      <td>no</td>\n",
       "      <td>southwest</td>\n",
       "      <td>2020.17700</td>\n",
       "    </tr>\n",
       "    <tr>\n",
       "      <th>2769</th>\n",
       "      <td>19</td>\n",
       "      <td>male</td>\n",
       "      <td>26.030</td>\n",
       "      <td>1</td>\n",
       "      <td>yes</td>\n",
       "      <td>northwest</td>\n",
       "      <td>16450.89470</td>\n",
       "    </tr>\n",
       "    <tr>\n",
       "      <th>2770</th>\n",
       "      <td>23</td>\n",
       "      <td>male</td>\n",
       "      <td>18.715</td>\n",
       "      <td>0</td>\n",
       "      <td>no</td>\n",
       "      <td>northwest</td>\n",
       "      <td>21595.38229</td>\n",
       "    </tr>\n",
       "    <tr>\n",
       "      <th>2771</th>\n",
       "      <td>54</td>\n",
       "      <td>male</td>\n",
       "      <td>31.600</td>\n",
       "      <td>0</td>\n",
       "      <td>no</td>\n",
       "      <td>southwest</td>\n",
       "      <td>9850.43200</td>\n",
       "    </tr>\n",
       "  </tbody>\n",
       "</table>\n",
       "<p>2752 rows × 7 columns</p>\n",
       "</div>"
      ],
      "text/plain": [
       "      age     sex     bmi  children smoker     region      charges\n",
       "0      19  female  27.900         0    yes  southwest  16884.92400\n",
       "1      18    male  33.770         1     no  southeast   1725.55230\n",
       "2      28    male  33.000         3     no  southeast   4449.46200\n",
       "3      33    male  22.705         0     no  northwest  21984.47061\n",
       "4      32    male  28.880         0     no  northwest   3866.85520\n",
       "...   ...     ...     ...       ...    ...        ...          ...\n",
       "2767   47  female  45.320         1     no  southeast   8569.86180\n",
       "2768   21  female  34.600         0     no  southwest   2020.17700\n",
       "2769   19    male  26.030         1    yes  northwest  16450.89470\n",
       "2770   23    male  18.715         0     no  northwest  21595.38229\n",
       "2771   54    male  31.600         0     no  southwest   9850.43200\n",
       "\n",
       "[2752 rows x 7 columns]"
      ]
     },
     "execution_count": 23,
     "metadata": {},
     "output_type": "execute_result"
    }
   ],
   "source": [
    "#REMOVING OUTLIERS\n",
    "\n",
    "ds=df[(z<3).all(axis=1)]\n",
    "ds"
   ]
  },
  {
   "cell_type": "code",
   "execution_count": null,
   "id": "28f78a45-61ad-4092-8f7b-9d09521206fa",
   "metadata": {},
   "outputs": [],
   "source": [
    "CHECKING FOR SKEWNESS"
   ]
  },
  {
   "cell_type": "code",
   "execution_count": 24,
   "id": "a75bb4d1-8a01-4285-a658-1261adec207f",
   "metadata": {},
   "outputs": [
    {
     "data": {
      "text/plain": [
       "age         0.059788\n",
       "bmi         0.216898\n",
       "children    0.951580\n",
       "charges     1.453575\n",
       "dtype: float64"
      ]
     },
     "execution_count": 24,
     "metadata": {},
     "output_type": "execute_result"
    }
   ],
   "source": [
    "# CHECKING FOR SKEWNESS FOR ONLY \" NUMERICAL COLUMN \"\n",
    "\n",
    "ds.select_dtypes(include=['number']).skew()"
   ]
  },
  {
   "cell_type": "code",
   "execution_count": null,
   "id": "8b920cbc-fb54-4c3e-b6fd-b87fa2844b7b",
   "metadata": {},
   "outputs": [],
   "source": [
    "# SEPERATING CATEGORICAL & NUMERICAL COLUMNS"
   ]
  },
  {
   "cell_type": "code",
   "execution_count": 25,
   "id": "b7c513db-90f2-43e4-a35b-7ba710b0d6dc",
   "metadata": {},
   "outputs": [
    {
     "name": "stdout",
     "output_type": "stream",
     "text": [
      "['sex', 'smoker', 'region']\n",
      "['age', 'bmi', 'children', 'charges']\n"
     ]
    }
   ],
   "source": [
    "cat_col=[]\n",
    "num_col=[]\n",
    "for i in ds.dtypes.index:\n",
    "    if ds.dtypes[i]=='object':\n",
    "        cat_col.append(i)\n",
    "    else:\n",
    "        num_col.append(i)\n",
    "print(cat_col)\n",
    "print(num_col)"
   ]
  },
  {
   "cell_type": "code",
   "execution_count": null,
   "id": "365e3138-f9ba-4be3-ae56-b5a0504898bb",
   "metadata": {},
   "outputs": [],
   "source": [
    "#  Label Encoding Technique for only \"categorical columns\""
   ]
  },
  {
   "cell_type": "code",
   "execution_count": 26,
   "id": "90d5ea2b-616c-4719-b756-26e2493923c5",
   "metadata": {},
   "outputs": [
    {
     "data": {
      "text/html": [
       "<div>\n",
       "<style scoped>\n",
       "    .dataframe tbody tr th:only-of-type {\n",
       "        vertical-align: middle;\n",
       "    }\n",
       "\n",
       "    .dataframe tbody tr th {\n",
       "        vertical-align: top;\n",
       "    }\n",
       "\n",
       "    .dataframe thead th {\n",
       "        text-align: right;\n",
       "    }\n",
       "</style>\n",
       "<table border=\"1\" class=\"dataframe\">\n",
       "  <thead>\n",
       "    <tr style=\"text-align: right;\">\n",
       "      <th></th>\n",
       "      <th>age</th>\n",
       "      <th>sex</th>\n",
       "      <th>bmi</th>\n",
       "      <th>children</th>\n",
       "      <th>smoker</th>\n",
       "      <th>region</th>\n",
       "      <th>charges</th>\n",
       "    </tr>\n",
       "  </thead>\n",
       "  <tbody>\n",
       "    <tr>\n",
       "      <th>0</th>\n",
       "      <td>19</td>\n",
       "      <td>0</td>\n",
       "      <td>27.900</td>\n",
       "      <td>0</td>\n",
       "      <td>1</td>\n",
       "      <td>3</td>\n",
       "      <td>16884.92400</td>\n",
       "    </tr>\n",
       "    <tr>\n",
       "      <th>1</th>\n",
       "      <td>18</td>\n",
       "      <td>1</td>\n",
       "      <td>33.770</td>\n",
       "      <td>1</td>\n",
       "      <td>0</td>\n",
       "      <td>2</td>\n",
       "      <td>1725.55230</td>\n",
       "    </tr>\n",
       "    <tr>\n",
       "      <th>2</th>\n",
       "      <td>28</td>\n",
       "      <td>1</td>\n",
       "      <td>33.000</td>\n",
       "      <td>3</td>\n",
       "      <td>0</td>\n",
       "      <td>2</td>\n",
       "      <td>4449.46200</td>\n",
       "    </tr>\n",
       "    <tr>\n",
       "      <th>3</th>\n",
       "      <td>33</td>\n",
       "      <td>1</td>\n",
       "      <td>22.705</td>\n",
       "      <td>0</td>\n",
       "      <td>0</td>\n",
       "      <td>1</td>\n",
       "      <td>21984.47061</td>\n",
       "    </tr>\n",
       "    <tr>\n",
       "      <th>4</th>\n",
       "      <td>32</td>\n",
       "      <td>1</td>\n",
       "      <td>28.880</td>\n",
       "      <td>0</td>\n",
       "      <td>0</td>\n",
       "      <td>1</td>\n",
       "      <td>3866.85520</td>\n",
       "    </tr>\n",
       "    <tr>\n",
       "      <th>...</th>\n",
       "      <td>...</td>\n",
       "      <td>...</td>\n",
       "      <td>...</td>\n",
       "      <td>...</td>\n",
       "      <td>...</td>\n",
       "      <td>...</td>\n",
       "      <td>...</td>\n",
       "    </tr>\n",
       "    <tr>\n",
       "      <th>2767</th>\n",
       "      <td>47</td>\n",
       "      <td>0</td>\n",
       "      <td>45.320</td>\n",
       "      <td>1</td>\n",
       "      <td>0</td>\n",
       "      <td>2</td>\n",
       "      <td>8569.86180</td>\n",
       "    </tr>\n",
       "    <tr>\n",
       "      <th>2768</th>\n",
       "      <td>21</td>\n",
       "      <td>0</td>\n",
       "      <td>34.600</td>\n",
       "      <td>0</td>\n",
       "      <td>0</td>\n",
       "      <td>3</td>\n",
       "      <td>2020.17700</td>\n",
       "    </tr>\n",
       "    <tr>\n",
       "      <th>2769</th>\n",
       "      <td>19</td>\n",
       "      <td>1</td>\n",
       "      <td>26.030</td>\n",
       "      <td>1</td>\n",
       "      <td>1</td>\n",
       "      <td>1</td>\n",
       "      <td>16450.89470</td>\n",
       "    </tr>\n",
       "    <tr>\n",
       "      <th>2770</th>\n",
       "      <td>23</td>\n",
       "      <td>1</td>\n",
       "      <td>18.715</td>\n",
       "      <td>0</td>\n",
       "      <td>0</td>\n",
       "      <td>1</td>\n",
       "      <td>21595.38229</td>\n",
       "    </tr>\n",
       "    <tr>\n",
       "      <th>2771</th>\n",
       "      <td>54</td>\n",
       "      <td>1</td>\n",
       "      <td>31.600</td>\n",
       "      <td>0</td>\n",
       "      <td>0</td>\n",
       "      <td>3</td>\n",
       "      <td>9850.43200</td>\n",
       "    </tr>\n",
       "  </tbody>\n",
       "</table>\n",
       "<p>2752 rows × 7 columns</p>\n",
       "</div>"
      ],
      "text/plain": [
       "      age  sex     bmi  children  smoker  region      charges\n",
       "0      19    0  27.900         0       1       3  16884.92400\n",
       "1      18    1  33.770         1       0       2   1725.55230\n",
       "2      28    1  33.000         3       0       2   4449.46200\n",
       "3      33    1  22.705         0       0       1  21984.47061\n",
       "4      32    1  28.880         0       0       1   3866.85520\n",
       "...   ...  ...     ...       ...     ...     ...          ...\n",
       "2767   47    0  45.320         1       0       2   8569.86180\n",
       "2768   21    0  34.600         0       0       3   2020.17700\n",
       "2769   19    1  26.030         1       1       1  16450.89470\n",
       "2770   23    1  18.715         0       0       1  21595.38229\n",
       "2771   54    1  31.600         0       0       3   9850.43200\n",
       "\n",
       "[2752 rows x 7 columns]"
      ]
     },
     "execution_count": 26,
     "metadata": {},
     "output_type": "execute_result"
    }
   ],
   "source": [
    "from sklearn.preprocessing import LabelEncoder\n",
    "le=LabelEncoder()\n",
    "for i in cat_col:\n",
    "    ds[i]=le.fit_transform(ds[i].astype(str))\n",
    "ds"
   ]
  },
  {
   "cell_type": "code",
   "execution_count": 27,
   "id": "f24829d8-1324-4820-9b4a-5c99a7d4ecdc",
   "metadata": {},
   "outputs": [
    {
     "data": {
      "text/plain": [
       "Index(['age', 'sex', 'bmi', 'children', 'smoker', 'region', 'charges'], dtype='object')"
      ]
     },
     "execution_count": 27,
     "metadata": {},
     "output_type": "execute_result"
    }
   ],
   "source": [
    "ds.columns"
   ]
  },
  {
   "cell_type": "code",
   "execution_count": 28,
   "id": "225429ba-128e-484f-9554-a0558d7437e9",
   "metadata": {},
   "outputs": [
    {
     "name": "stdout",
     "output_type": "stream",
     "text": [
      "      age  sex     bmi  children  smoker  region\n",
      "0      19    0  27.900         0       1       3\n",
      "1      18    1  33.770         1       0       2\n",
      "2      28    1  33.000         3       0       2\n",
      "3      33    1  22.705         0       0       1\n",
      "4      32    1  28.880         0       0       1\n",
      "...   ...  ...     ...       ...     ...     ...\n",
      "2767   47    0  45.320         1       0       2\n",
      "2768   21    0  34.600         0       0       3\n",
      "2769   19    1  26.030         1       1       1\n",
      "2770   23    1  18.715         0       0       1\n",
      "2771   54    1  31.600         0       0       3\n",
      "\n",
      "[2752 rows x 6 columns]\n"
     ]
    }
   ],
   "source": [
    "# Now It shows only the input columns\n",
    "\n",
    "x=ds.drop('charges',axis=1)\n",
    "y=ds['charges']\n",
    "print(x)"
   ]
  },
  {
   "cell_type": "code",
   "execution_count": 29,
   "id": "73795811-69a5-4b21-9348-0a0d29ed84d6",
   "metadata": {},
   "outputs": [
    {
     "name": "stdout",
     "output_type": "stream",
     "text": [
      "0       16884.92400\n",
      "1        1725.55230\n",
      "2        4449.46200\n",
      "3       21984.47061\n",
      "4        3866.85520\n",
      "           ...     \n",
      "2767     8569.86180\n",
      "2768     2020.17700\n",
      "2769    16450.89470\n",
      "2770    21595.38229\n",
      "2771     9850.43200\n",
      "Name: charges, Length: 2752, dtype: float64\n"
     ]
    }
   ],
   "source": [
    "# NOW IT SHOW ONLY THE TARGET COLUMN\n",
    "\n",
    "print(y)"
   ]
  },
  {
   "cell_type": "code",
   "execution_count": null,
   "id": "4a7fe835-45eb-452e-8650-c0a849115d7c",
   "metadata": {},
   "outputs": [],
   "source": [
    "SCALING TO REMOVE BIASNESS FOR INPUT VARIABLES ( STANDAED SCALING )"
   ]
  },
  {
   "cell_type": "code",
   "execution_count": 30,
   "id": "02226cff-e813-4408-aca6-53d0ee171dfb",
   "metadata": {},
   "outputs": [
    {
     "data": {
      "text/plain": [
       "array([[-1.42991515, -1.0116963 , -0.45095551, -0.90836336,  2.00546698,\n",
       "         1.33040252],\n",
       "       [-1.50095658,  0.98843892,  0.52022747, -0.08605548, -0.49863698,\n",
       "         0.42504452],\n",
       "       [-0.79054235,  0.98843892,  0.39283209,  1.55856029, -0.49863698,\n",
       "         0.42504452],\n",
       "       ...,\n",
       "       [-1.42991515,  0.98843892, -0.76034429, -0.08605548,  2.00546698,\n",
       "        -0.48031347],\n",
       "       [-1.14574946,  0.98843892, -1.97060042, -0.90836336, -0.49863698,\n",
       "        -0.48031347],\n",
       "       [ 1.05653465,  0.98843892,  0.16120412, -0.90836336, -0.49863698,\n",
       "         1.33040252]])"
      ]
     },
     "execution_count": 30,
     "metadata": {},
     "output_type": "execute_result"
    }
   ],
   "source": [
    "from sklearn.preprocessing import StandardScaler\n",
    "st=StandardScaler()\n",
    "x=st.fit_transform(x)\n",
    "x"
   ]
  },
  {
   "cell_type": "code",
   "execution_count": 31,
   "id": "7edbb048-a523-4594-bf62-d02868dcfbbf",
   "metadata": {},
   "outputs": [
    {
     "data": {
      "text/html": [
       "<div>\n",
       "<style scoped>\n",
       "    .dataframe tbody tr th:only-of-type {\n",
       "        vertical-align: middle;\n",
       "    }\n",
       "\n",
       "    .dataframe tbody tr th {\n",
       "        vertical-align: top;\n",
       "    }\n",
       "\n",
       "    .dataframe thead th {\n",
       "        text-align: right;\n",
       "    }\n",
       "</style>\n",
       "<table border=\"1\" class=\"dataframe\">\n",
       "  <thead>\n",
       "    <tr style=\"text-align: right;\">\n",
       "      <th></th>\n",
       "      <th>age</th>\n",
       "      <th>sex</th>\n",
       "      <th>bmi</th>\n",
       "      <th>children</th>\n",
       "      <th>smoker</th>\n",
       "      <th>region</th>\n",
       "      <th>charges</th>\n",
       "    </tr>\n",
       "  </thead>\n",
       "  <tbody>\n",
       "    <tr>\n",
       "      <th>0</th>\n",
       "      <td>19</td>\n",
       "      <td>0</td>\n",
       "      <td>27.900</td>\n",
       "      <td>0</td>\n",
       "      <td>1</td>\n",
       "      <td>3</td>\n",
       "      <td>16884.92400</td>\n",
       "    </tr>\n",
       "    <tr>\n",
       "      <th>1</th>\n",
       "      <td>18</td>\n",
       "      <td>1</td>\n",
       "      <td>33.770</td>\n",
       "      <td>1</td>\n",
       "      <td>0</td>\n",
       "      <td>2</td>\n",
       "      <td>1725.55230</td>\n",
       "    </tr>\n",
       "    <tr>\n",
       "      <th>2</th>\n",
       "      <td>28</td>\n",
       "      <td>1</td>\n",
       "      <td>33.000</td>\n",
       "      <td>3</td>\n",
       "      <td>0</td>\n",
       "      <td>2</td>\n",
       "      <td>4449.46200</td>\n",
       "    </tr>\n",
       "    <tr>\n",
       "      <th>3</th>\n",
       "      <td>33</td>\n",
       "      <td>1</td>\n",
       "      <td>22.705</td>\n",
       "      <td>0</td>\n",
       "      <td>0</td>\n",
       "      <td>1</td>\n",
       "      <td>21984.47061</td>\n",
       "    </tr>\n",
       "    <tr>\n",
       "      <th>4</th>\n",
       "      <td>32</td>\n",
       "      <td>1</td>\n",
       "      <td>28.880</td>\n",
       "      <td>0</td>\n",
       "      <td>0</td>\n",
       "      <td>1</td>\n",
       "      <td>3866.85520</td>\n",
       "    </tr>\n",
       "    <tr>\n",
       "      <th>...</th>\n",
       "      <td>...</td>\n",
       "      <td>...</td>\n",
       "      <td>...</td>\n",
       "      <td>...</td>\n",
       "      <td>...</td>\n",
       "      <td>...</td>\n",
       "      <td>...</td>\n",
       "    </tr>\n",
       "    <tr>\n",
       "      <th>2767</th>\n",
       "      <td>47</td>\n",
       "      <td>0</td>\n",
       "      <td>45.320</td>\n",
       "      <td>1</td>\n",
       "      <td>0</td>\n",
       "      <td>2</td>\n",
       "      <td>8569.86180</td>\n",
       "    </tr>\n",
       "    <tr>\n",
       "      <th>2768</th>\n",
       "      <td>21</td>\n",
       "      <td>0</td>\n",
       "      <td>34.600</td>\n",
       "      <td>0</td>\n",
       "      <td>0</td>\n",
       "      <td>3</td>\n",
       "      <td>2020.17700</td>\n",
       "    </tr>\n",
       "    <tr>\n",
       "      <th>2769</th>\n",
       "      <td>19</td>\n",
       "      <td>1</td>\n",
       "      <td>26.030</td>\n",
       "      <td>1</td>\n",
       "      <td>1</td>\n",
       "      <td>1</td>\n",
       "      <td>16450.89470</td>\n",
       "    </tr>\n",
       "    <tr>\n",
       "      <th>2770</th>\n",
       "      <td>23</td>\n",
       "      <td>1</td>\n",
       "      <td>18.715</td>\n",
       "      <td>0</td>\n",
       "      <td>0</td>\n",
       "      <td>1</td>\n",
       "      <td>21595.38229</td>\n",
       "    </tr>\n",
       "    <tr>\n",
       "      <th>2771</th>\n",
       "      <td>54</td>\n",
       "      <td>1</td>\n",
       "      <td>31.600</td>\n",
       "      <td>0</td>\n",
       "      <td>0</td>\n",
       "      <td>3</td>\n",
       "      <td>9850.43200</td>\n",
       "    </tr>\n",
       "  </tbody>\n",
       "</table>\n",
       "<p>2752 rows × 7 columns</p>\n",
       "</div>"
      ],
      "text/plain": [
       "      age  sex     bmi  children  smoker  region      charges\n",
       "0      19    0  27.900         0       1       3  16884.92400\n",
       "1      18    1  33.770         1       0       2   1725.55230\n",
       "2      28    1  33.000         3       0       2   4449.46200\n",
       "3      33    1  22.705         0       0       1  21984.47061\n",
       "4      32    1  28.880         0       0       1   3866.85520\n",
       "...   ...  ...     ...       ...     ...     ...          ...\n",
       "2767   47    0  45.320         1       0       2   8569.86180\n",
       "2768   21    0  34.600         0       0       3   2020.17700\n",
       "2769   19    1  26.030         1       1       1  16450.89470\n",
       "2770   23    1  18.715         0       0       1  21595.38229\n",
       "2771   54    1  31.600         0       0       3   9850.43200\n",
       "\n",
       "[2752 rows x 7 columns]"
      ]
     },
     "execution_count": 31,
     "metadata": {},
     "output_type": "execute_result"
    }
   ],
   "source": [
    "# It shows the whole number of all column\n",
    "\n",
    "ds"
   ]
  },
  {
   "cell_type": "code",
   "execution_count": null,
   "id": "9bffa2c5-622a-4ff2-aafb-a3de17b163c6",
   "metadata": {},
   "outputs": [],
   "source": [
    "CHECKING FOR CORRELATION"
   ]
  },
  {
   "cell_type": "code",
   "execution_count": 32,
   "id": "b1c57310-8d33-40c8-b014-7946f2ad9e9a",
   "metadata": {},
   "outputs": [
    {
     "data": {
      "text/html": [
       "<div>\n",
       "<style scoped>\n",
       "    .dataframe tbody tr th:only-of-type {\n",
       "        vertical-align: middle;\n",
       "    }\n",
       "\n",
       "    .dataframe tbody tr th {\n",
       "        vertical-align: top;\n",
       "    }\n",
       "\n",
       "    .dataframe thead th {\n",
       "        text-align: right;\n",
       "    }\n",
       "</style>\n",
       "<table border=\"1\" class=\"dataframe\">\n",
       "  <thead>\n",
       "    <tr style=\"text-align: right;\">\n",
       "      <th></th>\n",
       "      <th>age</th>\n",
       "      <th>sex</th>\n",
       "      <th>bmi</th>\n",
       "      <th>children</th>\n",
       "      <th>smoker</th>\n",
       "      <th>region</th>\n",
       "      <th>charges</th>\n",
       "    </tr>\n",
       "  </thead>\n",
       "  <tbody>\n",
       "    <tr>\n",
       "      <th>age</th>\n",
       "      <td>1.000000</td>\n",
       "      <td>-0.024889</td>\n",
       "      <td>0.123849</td>\n",
       "      <td>0.037215</td>\n",
       "      <td>-0.025863</td>\n",
       "      <td>0.000590</td>\n",
       "      <td>0.305849</td>\n",
       "    </tr>\n",
       "    <tr>\n",
       "      <th>sex</th>\n",
       "      <td>-0.024889</td>\n",
       "      <td>1.000000</td>\n",
       "      <td>0.038415</td>\n",
       "      <td>0.015733</td>\n",
       "      <td>0.081560</td>\n",
       "      <td>0.000995</td>\n",
       "      <td>0.063063</td>\n",
       "    </tr>\n",
       "    <tr>\n",
       "      <th>bmi</th>\n",
       "      <td>0.123849</td>\n",
       "      <td>0.038415</td>\n",
       "      <td>1.000000</td>\n",
       "      <td>0.003328</td>\n",
       "      <td>-0.000609</td>\n",
       "      <td>0.158757</td>\n",
       "      <td>0.190260</td>\n",
       "    </tr>\n",
       "    <tr>\n",
       "      <th>children</th>\n",
       "      <td>0.037215</td>\n",
       "      <td>0.015733</td>\n",
       "      <td>0.003328</td>\n",
       "      <td>1.000000</td>\n",
       "      <td>0.009466</td>\n",
       "      <td>0.018182</td>\n",
       "      <td>0.074782</td>\n",
       "    </tr>\n",
       "    <tr>\n",
       "      <th>smoker</th>\n",
       "      <td>-0.025863</td>\n",
       "      <td>0.081560</td>\n",
       "      <td>-0.000609</td>\n",
       "      <td>0.009466</td>\n",
       "      <td>1.000000</td>\n",
       "      <td>-0.008837</td>\n",
       "      <td>0.786383</td>\n",
       "    </tr>\n",
       "    <tr>\n",
       "      <th>region</th>\n",
       "      <td>0.000590</td>\n",
       "      <td>0.000995</td>\n",
       "      <td>0.158757</td>\n",
       "      <td>0.018182</td>\n",
       "      <td>-0.008837</td>\n",
       "      <td>1.000000</td>\n",
       "      <td>-0.016789</td>\n",
       "    </tr>\n",
       "    <tr>\n",
       "      <th>charges</th>\n",
       "      <td>0.305849</td>\n",
       "      <td>0.063063</td>\n",
       "      <td>0.190260</td>\n",
       "      <td>0.074782</td>\n",
       "      <td>0.786383</td>\n",
       "      <td>-0.016789</td>\n",
       "      <td>1.000000</td>\n",
       "    </tr>\n",
       "  </tbody>\n",
       "</table>\n",
       "</div>"
      ],
      "text/plain": [
       "               age       sex       bmi  children    smoker    region   charges\n",
       "age       1.000000 -0.024889  0.123849  0.037215 -0.025863  0.000590  0.305849\n",
       "sex      -0.024889  1.000000  0.038415  0.015733  0.081560  0.000995  0.063063\n",
       "bmi       0.123849  0.038415  1.000000  0.003328 -0.000609  0.158757  0.190260\n",
       "children  0.037215  0.015733  0.003328  1.000000  0.009466  0.018182  0.074782\n",
       "smoker   -0.025863  0.081560 -0.000609  0.009466  1.000000 -0.008837  0.786383\n",
       "region    0.000590  0.000995  0.158757  0.018182 -0.008837  1.000000 -0.016789\n",
       "charges   0.305849  0.063063  0.190260  0.074782  0.786383 -0.016789  1.000000"
      ]
     },
     "execution_count": 32,
     "metadata": {},
     "output_type": "execute_result"
    }
   ],
   "source": [
    "ds.corr()"
   ]
  },
  {
   "cell_type": "code",
   "execution_count": 33,
   "id": "87042d44-852c-4fa9-ba90-9bc14a1a71c0",
   "metadata": {},
   "outputs": [
    {
     "data": {
      "image/png": "[encoded data removed]",
      "text/plain": [
       "<Figure size 1500x600 with 2 Axes>"
      ]
     },
     "metadata": {},
     "output_type": "display_data"
    }
   ],
   "source": [
    "plt.figure(figsize=(15,6))\n",
    "sns.heatmap(ds.corr(),annot=True,linewidths=0.6,linecolor='black',fmt='0.2f')\n",
    "plt.show()\n"
   ]
  },
  {
   "cell_type": "code",
   "execution_count": null,
   "id": "91d2a055-9c6a-44c2-ad0c-101f0e611bf6",
   "metadata": {},
   "outputs": [],
   "source": [
    "Now the data set is free from multi collinearity problem"
   ]
  },
  {
   "cell_type": "code",
   "execution_count": 42,
   "id": "f154d583-e89a-4384-a82f-fea3992a0acd",
   "metadata": {},
   "outputs": [
    {
     "data": {
      "text/html": [
       "<div>\n",
       "<style scoped>\n",
       "    .dataframe tbody tr th:only-of-type {\n",
       "        vertical-align: middle;\n",
       "    }\n",
       "\n",
       "    .dataframe tbody tr th {\n",
       "        vertical-align: top;\n",
       "    }\n",
       "\n",
       "    .dataframe thead th {\n",
       "        text-align: right;\n",
       "    }\n",
       "</style>\n",
       "<table border=\"1\" class=\"dataframe\">\n",
       "  <thead>\n",
       "    <tr style=\"text-align: right;\">\n",
       "      <th></th>\n",
       "      <th>0</th>\n",
       "      <th>1</th>\n",
       "      <th>2</th>\n",
       "      <th>3</th>\n",
       "      <th>4</th>\n",
       "      <th>5</th>\n",
       "    </tr>\n",
       "  </thead>\n",
       "  <tbody>\n",
       "    <tr>\n",
       "      <th>0</th>\n",
       "      <td>-1.429915</td>\n",
       "      <td>-1.011696</td>\n",
       "      <td>-0.450956</td>\n",
       "      <td>-0.908363</td>\n",
       "      <td>2.005467</td>\n",
       "      <td>1.330403</td>\n",
       "    </tr>\n",
       "    <tr>\n",
       "      <th>1</th>\n",
       "      <td>-1.500957</td>\n",
       "      <td>0.988439</td>\n",
       "      <td>0.520227</td>\n",
       "      <td>-0.086055</td>\n",
       "      <td>-0.498637</td>\n",
       "      <td>0.425045</td>\n",
       "    </tr>\n",
       "    <tr>\n",
       "      <th>2</th>\n",
       "      <td>-0.790542</td>\n",
       "      <td>0.988439</td>\n",
       "      <td>0.392832</td>\n",
       "      <td>1.558560</td>\n",
       "      <td>-0.498637</td>\n",
       "      <td>0.425045</td>\n",
       "    </tr>\n",
       "    <tr>\n",
       "      <th>3</th>\n",
       "      <td>-0.435335</td>\n",
       "      <td>0.988439</td>\n",
       "      <td>-1.310461</td>\n",
       "      <td>-0.908363</td>\n",
       "      <td>-0.498637</td>\n",
       "      <td>-0.480313</td>\n",
       "    </tr>\n",
       "    <tr>\n",
       "      <th>4</th>\n",
       "      <td>-0.506377</td>\n",
       "      <td>0.988439</td>\n",
       "      <td>-0.288816</td>\n",
       "      <td>-0.908363</td>\n",
       "      <td>-0.498637</td>\n",
       "      <td>-0.480313</td>\n",
       "    </tr>\n",
       "    <tr>\n",
       "      <th>...</th>\n",
       "      <td>...</td>\n",
       "      <td>...</td>\n",
       "      <td>...</td>\n",
       "      <td>...</td>\n",
       "      <td>...</td>\n",
       "      <td>...</td>\n",
       "    </tr>\n",
       "    <tr>\n",
       "      <th>2747</th>\n",
       "      <td>0.559245</td>\n",
       "      <td>-1.011696</td>\n",
       "      <td>2.431158</td>\n",
       "      <td>-0.086055</td>\n",
       "      <td>-0.498637</td>\n",
       "      <td>0.425045</td>\n",
       "    </tr>\n",
       "    <tr>\n",
       "      <th>2748</th>\n",
       "      <td>-1.287832</td>\n",
       "      <td>-1.011696</td>\n",
       "      <td>0.657550</td>\n",
       "      <td>-0.908363</td>\n",
       "      <td>-0.498637</td>\n",
       "      <td>1.330403</td>\n",
       "    </tr>\n",
       "    <tr>\n",
       "      <th>2749</th>\n",
       "      <td>-1.429915</td>\n",
       "      <td>0.988439</td>\n",
       "      <td>-0.760344</td>\n",
       "      <td>-0.086055</td>\n",
       "      <td>2.005467</td>\n",
       "      <td>-0.480313</td>\n",
       "    </tr>\n",
       "    <tr>\n",
       "      <th>2750</th>\n",
       "      <td>-1.145749</td>\n",
       "      <td>0.988439</td>\n",
       "      <td>-1.970600</td>\n",
       "      <td>-0.908363</td>\n",
       "      <td>-0.498637</td>\n",
       "      <td>-0.480313</td>\n",
       "    </tr>\n",
       "    <tr>\n",
       "      <th>2751</th>\n",
       "      <td>1.056535</td>\n",
       "      <td>0.988439</td>\n",
       "      <td>0.161204</td>\n",
       "      <td>-0.908363</td>\n",
       "      <td>-0.498637</td>\n",
       "      <td>1.330403</td>\n",
       "    </tr>\n",
       "  </tbody>\n",
       "</table>\n",
       "<p>2752 rows × 6 columns</p>\n",
       "</div>"
      ],
      "text/plain": [
       "             0         1         2         3         4         5\n",
       "0    -1.429915 -1.011696 -0.450956 -0.908363  2.005467  1.330403\n",
       "1    -1.500957  0.988439  0.520227 -0.086055 -0.498637  0.425045\n",
       "2    -0.790542  0.988439  0.392832  1.558560 -0.498637  0.425045\n",
       "3    -0.435335  0.988439 -1.310461 -0.908363 -0.498637 -0.480313\n",
       "4    -0.506377  0.988439 -0.288816 -0.908363 -0.498637 -0.480313\n",
       "...        ...       ...       ...       ...       ...       ...\n",
       "2747  0.559245 -1.011696  2.431158 -0.086055 -0.498637  0.425045\n",
       "2748 -1.287832 -1.011696  0.657550 -0.908363 -0.498637  1.330403\n",
       "2749 -1.429915  0.988439 -0.760344 -0.086055  2.005467 -0.480313\n",
       "2750 -1.145749  0.988439 -1.970600 -0.908363 -0.498637 -0.480313\n",
       "2751  1.056535  0.988439  0.161204 -0.908363 -0.498637  1.330403\n",
       "\n",
       "[2752 rows x 6 columns]"
      ]
     },
     "execution_count": 42,
     "metadata": {},
     "output_type": "execute_result"
    }
   ],
   "source": [
    " #  IT SHOW FLOAT NUMBERS OF ALL COLUMN\n",
    "         # In the BELOW data set all values in between the -3 to +3 (z score)\n",
    "\n",
    "x=pd.DataFrame(data=x)\n",
    "x\n"
   ]
  },
  {
   "cell_type": "code",
   "execution_count": 43,
   "id": "d0222070-7d7a-4818-8074-dc2042199132",
   "metadata": {},
   "outputs": [
    {
     "data": {
      "text/plain": [
       "charges\n",
       "3987.9260     4\n",
       "35595.5898    4\n",
       "9101.7980     4\n",
       "6059.1730     4\n",
       "1633.9618     4\n",
       "             ..\n",
       "5910.9440     2\n",
       "11454.0215    2\n",
       "12730.9996    2\n",
       "7345.0840     2\n",
       "29141.3603    2\n",
       "Name: count, Length: 1327, dtype: int64"
      ]
     },
     "execution_count": 43,
     "metadata": {},
     "output_type": "execute_result"
    }
   ],
   "source": [
    "# NOW  TAKE THE VALUE COUNT FOR Y ( TARGET VALUE)\n",
    "\n",
    "y.value_counts()\n"
   ]
  },
  {
   "cell_type": "code",
   "execution_count": null,
   "id": "2655111e-cfff-4fe9-a684-c78d2387520e",
   "metadata": {},
   "outputs": [],
   "source": [
    "\n",
    "NOW WE CAN SPLIT THE DATA SET INTO TRAIN AND TEST"
   ]
  },
  {
   "cell_type": "code",
   "execution_count": 44,
   "id": "1e1b38d3-c85b-462b-9a73-79957ea84b01",
   "metadata": {},
   "outputs": [],
   "source": [
    "from sklearn.model_selection import train_test_split\n",
    "from sklearn.linear_model import LogisticRegression\n",
    "from sklearn.metrics import accuracy_score\n",
    "from sklearn.metrics import confusion_matrix\n",
    "from sklearn.metrics import classification_report\n",
    "from sklearn.metrics import roc_curve\n",
    "from sklearn.model_selection import cross_val_score, KFold\n",
    "from sklearn.metrics import mean_absolute_error\n",
    "from sklearn.metrics import mean_squared_error\n",
    "from sklearn.metrics import r2_score"
   ]
  },
  {
   "cell_type": "code",
   "execution_count": 45,
   "id": "da18d342-c2b2-47d4-993a-f0f749ab567a",
   "metadata": {},
   "outputs": [],
   "source": [
    "x_train,x_test,y_train,y_test=train_test_split(x,y,test_size=0.30,random_state=42)"
   ]
  },
  {
   "cell_type": "code",
   "execution_count": 46,
   "id": "d8876f81-20c9-4af1-9a9b-f1a25fd49a88",
   "metadata": {},
   "outputs": [
    {
     "name": "stdout",
     "output_type": "stream",
     "text": [
      "(1926, 6)\n",
      "(1926,)\n",
      "(826, 6)\n",
      "(826,)\n"
     ]
    }
   ],
   "source": [
    "print(x_train.shape)\n",
    "print(y_train.shape)\n",
    "print(x_test.shape)\n",
    "print(y_test.shape)"
   ]
  },
  {
   "cell_type": "code",
   "execution_count": null,
   "id": "2907ea2a-1e80-4063-892c-eb67d12bf882",
   "metadata": {},
   "outputs": [],
   "source": [
    "MODELLING"
   ]
  },
  {
   "cell_type": "code",
   "execution_count": 47,
   "id": "006856f0-f5f5-428e-ba7f-0b66f7fa7988",
   "metadata": {},
   "outputs": [
    {
     "name": "stdout",
     "output_type": "stream",
     "text": [
      "0.7545745856777657\n",
      "0.7449643384548068\n",
      "[0.74519332 0.75390965 0.7430362  0.76439133 0.74761552]\n",
      "0.7508292056027637\n",
      "-0.005864867147956865\n"
     ]
    }
   ],
   "source": [
    "#LINEAR REGRESSION\n",
    "\n",
    "from sklearn.linear_model import LinearRegression\n",
    "from sklearn.model_selection import cross_val_score,KFold\n",
    "m1=LinearRegression()\n",
    "m1.fit(x_train,y_train)\n",
    "trainprediction1=m1.predict(x_train)\n",
    "print(r2_score(y_train,trainprediction1))\n",
    "testprediction1=m1.predict(x_test)\n",
    "print(r2_score(y_test,testprediction1))\n",
    "kfold=KFold(n_splits=5,shuffle=True)\n",
    "score1=cross_val_score(m1,x,y,cv=kfold)\n",
    "print(score1)\n",
    "print(score1.mean())\n",
    "print((r2_score(y_test,testprediction1)-(score1.mean())))"
   ]
  },
  {
   "cell_type": "code",
   "execution_count": 48,
   "id": "191f527a-1868-426a-b16a-b04f66631b4e",
   "metadata": {},
   "outputs": [
    {
     "name": "stdout",
     "output_type": "stream",
     "text": [
      "0.8484431397793348\n",
      "0.8408635319537957\n",
      "[0.83276831 0.81744249 0.82523261 0.81813906 0.84632166]\n",
      "0.8279808249641805\n",
      "0.012882706989615245\n"
     ]
    }
   ],
   "source": [
    "# AD A BOOST REGRESSION\n",
    "\n",
    "from sklearn.ensemble import AdaBoostRegressor\n",
    "m2=AdaBoostRegressor()\n",
    "m2.fit(x_train,y_train)\n",
    "trainprediction2=m2.predict(x_train)\n",
    "print(r2_score(y_train,trainprediction2))\n",
    "testprediction2=m2.predict(x_test)\n",
    "print(r2_score(y_test,testprediction2))\n",
    "kfold=KFold(n_splits=5,shuffle=True)\n",
    "score2=cross_val_score(m2,x,y,cv=kfold)\n",
    "print(score2)\n",
    "print(score2.mean())\n",
    "print((r2_score(y_test,testprediction2)-(score2.mean())))"
   ]
  },
  {
   "cell_type": "code",
   "execution_count": 49,
   "id": "f8d46844-5ffd-4890-bbaa-3c77849d023e",
   "metadata": {},
   "outputs": [
    {
     "name": "stdout",
     "output_type": "stream",
     "text": [
      "0.9902565526068551\n",
      "0.9366487351503158\n",
      "[0.94054538 0.94647555 0.96651655 0.96408326 0.92801749]\n",
      "0.9491276466947512\n",
      "-0.012478911544435478\n"
     ]
    }
   ],
   "source": [
    " # RANDOM FOREST REGRESSION\n",
    "\n",
    "from sklearn.ensemble import RandomForestRegressor\n",
    "m4=RandomForestRegressor()\n",
    "m4.fit(x_train,y_train)\n",
    "trainprediction4=m4.predict(x_train)\n",
    "print(r2_score(y_train,trainprediction4))\n",
    "testprediction4=m4.predict(x_test)\n",
    "print(r2_score(y_test,testprediction4))\n",
    "kfold=KFold(n_splits=5,shuffle=True)\n",
    "score4=cross_val_score(m4,x,y,cv=kfold)\n",
    "print(score4)\n",
    "print(score4.mean())\n",
    "print((r2_score(y_test,testprediction4)-(score4.mean())))"
   ]
  },
  {
   "cell_type": "code",
   "execution_count": 50,
   "id": "d84abe6a-809b-438d-8574-e8da74e19242",
   "metadata": {},
   "outputs": [
    {
     "name": "stdout",
     "output_type": "stream",
     "text": [
      "0.7545737998854547\n",
      "0.7449879067317746\n",
      "[0.77984282 0.75057667 0.72993959 0.72597505 0.75701293]\n",
      "0.7486694133916079\n",
      "-0.003705074936801056\n"
     ]
    }
   ],
   "source": [
    " #  BAYESIAN RIDGE\n",
    "\n",
    "from sklearn.linear_model import BayesianRidge\n",
    "model=BayesianRidge()\n",
    "model.fit(x_train,y_train)\n",
    "trainprediction=model.predict(x_train)\n",
    "print(r2_score(y_train,trainprediction))\n",
    "testprediction=model.predict(x_test)\n",
    "print(r2_score(y_test,testprediction))\n",
    "kfold=KFold(n_splits=5,shuffle=True)\n",
    "score111=cross_val_score(model,x,y,cv=kfold)\n",
    "print(score111)\n",
    "print(score111.mean())\n",
    "print((r2_score(y_test,testprediction1)-(score111.mean())))"
   ]
  },
  {
   "cell_type": "code",
   "execution_count": 51,
   "id": "2f885403-b41a-4fbc-bf79-35b0d0301930",
   "metadata": {},
   "outputs": [
    {
     "name": "stdout",
     "output_type": "stream",
     "text": [
      "0.7545548063372445\n",
      "0.745066369663433\n",
      "[0.78143844 0.74577146 0.69910097 0.73111824 0.78616075]\n",
      "0.748717974339943\n",
      "-0.003651604676510045\n"
     ]
    }
   ],
   "source": [
    "#  RIDGE\n",
    "\n",
    "from sklearn.linear_model import Ridge\n",
    "ridge=Ridge(alpha=10,max_iter=1000,tol=0.1)\n",
    "ridge.fit(x_train,y_train)\n",
    "trainprediction11=ridge.predict(x_train)\n",
    "print(r2_score(y_train,trainprediction11))\n",
    "testprediction11=ridge.predict(x_test)\n",
    "print(r2_score(y_test,testprediction11))\n",
    "kfold=KFold(n_splits=5,shuffle=True)\n",
    "score22=cross_val_score(ridge,x,y,cv=kfold)\n",
    "print(score22)\n",
    "print(score22.mean())\n",
    "print((r2_score(y_test,testprediction11)-(score22.mean())))"
   ]
  },
  {
   "cell_type": "code",
   "execution_count": 52,
   "id": "a4a55269-8613-4062-baaa-c9df49a6757d",
   "metadata": {},
   "outputs": [
    {
     "name": "stdout",
     "output_type": "stream",
     "text": [
      "0.8248382265825411\n",
      "0.8090737874247558\n",
      "[0.81322311 0.83278992 0.84773933 0.81380242 0.83879498]\n",
      "0.8292699513549726\n",
      "-0.020196163930216837\n"
     ]
    }
   ],
   "source": [
    " #GRADIENT BOOST REGRESSION\n",
    "\n",
    "from sklearn.ensemble import GradientBoostingRegressor\n",
    "m3=AdaBoostRegressor()\n",
    "m3.fit(x_train,y_train)\n",
    "trainprediction3=m3.predict(x_train)\n",
    "print(r2_score(y_train,trainprediction3))\n",
    "testprediction3=m3.predict(x_test)\n",
    "print(r2_score(y_test,testprediction3))\n",
    "score3=cross_val_score(m3,x,y)\n",
    "print(score3)\n",
    "print(score3.mean())\n",
    "print((r2_score(y_test,testprediction3)-(score3.mean())))"
   ]
  },
  {
   "cell_type": "code",
   "execution_count": 54,
   "id": "97e100d3-b4a6-431c-b80a-a265b563eb33",
   "metadata": {},
   "outputs": [
    {
     "name": "stdout",
     "output_type": "stream",
     "text": [
      "0.9988063522085905\n",
      "0.8865438155564475\n",
      "[0.94278078 0.94965975 0.93575141 0.90068652 0.94811082]\n",
      "0.9353978566698216\n",
      "-0.0488540411133741\n"
     ]
    }
   ],
   "source": [
    "# DECISION TREE REGRESSION\n",
    "\n",
    "from sklearn.tree import DecisionTreeRegressor\n",
    "m5=DecisionTreeRegressor()\n",
    "m5.fit(x_train,y_train)\n",
    "trainprediction5=m5.predict(x_train)\n",
    "print(r2_score(y_train,trainprediction5))\n",
    "testprediction5=m5.predict(x_test)\n",
    "print(r2_score(y_test,testprediction5))\n",
    "kfold=KFold(n_splits=5,shuffle=True)\n",
    "score5=cross_val_score(m5,x,y,cv=kfold)\n",
    "print(score5)\n",
    "print(score5.mean())\n",
    "print((r2_score(y_test,testprediction5)-(score5.mean())))"
   ]
  },
  {
   "cell_type": "code",
   "execution_count": 55,
   "id": "983a4188-1c78-4347-b3eb-1ec8bfa09fd3",
   "metadata": {},
   "outputs": [
    {
     "name": "stdout",
     "output_type": "stream",
     "text": [
      "-0.0916148151390439\n",
      "-0.09358249864198775\n",
      "[-0.08384956 -0.09249556 -0.13873093 -0.08809714 -0.05189091]\n",
      "-0.09101282090100868\n",
      "-0.002569677740979076\n"
     ]
    }
   ],
   "source": [
    " # SVR\n",
    "\n",
    "from sklearn.svm import SVR\n",
    "m6=SVR()\n",
    "m6.fit(x_train,y_train)\n",
    "trainprediction6=m6.predict(x_train)\n",
    "print(r2_score(y_train,trainprediction6))\n",
    "testprediction6=m6.predict(x_test)\n",
    "print(r2_score(y_test,testprediction6))\n",
    "kfold=KFold(n_splits=5,shuffle=True)\n",
    "score6=cross_val_score(m6,x,y,cv=kfold)\n",
    "print(score6)\n",
    "print(score6.mean())\n",
    "print((r2_score(y_test,testprediction6)-(score6.mean())))"
   ]
  },
  {
   "cell_type": "code",
   "execution_count": 56,
   "id": "f810d8a0-11ca-487d-816c-4a37de62c1e2",
   "metadata": {},
   "outputs": [
    {
     "name": "stdout",
     "output_type": "stream",
     "text": [
      "0.9061445080476114\n",
      "0.851235088463917\n",
      "[0.86853018 0.81803656 0.86825994 0.85684574 0.85190469]\n",
      "0.8527154221264857\n",
      "-0.0014803336625686114\n"
     ]
    }
   ],
   "source": [
    " #KNN\n",
    "\n",
    "from sklearn.neighbors import KNeighborsRegressor\n",
    "m7=KNeighborsRegressor()\n",
    "m7.fit(x_train,y_train)\n",
    "trainprediction7=m7.predict(x_train)\n",
    "print(r2_score(y_train,trainprediction7))\n",
    "testprediction7=m7.predict(x_test)\n",
    "print(r2_score(y_test,testprediction7))\n",
    "kfold=KFold(n_splits=5,shuffle=True)\n",
    "score7=cross_val_score(m7,x,y,cv=kfold)\n",
    "print(score7)\n",
    "print(score7.mean())\n",
    "print((r2_score(y_test,testprediction7)-(score7.mean())))"
   ]
  },
  {
   "cell_type": "code",
   "execution_count": 57,
   "id": "44db8af3-8d1f-44b4-8afc-0cef9c7cce1b",
   "metadata": {},
   "outputs": [
    {
     "name": "stdout",
     "output_type": "stream",
     "text": [
      "0.7545745856777654\n",
      "0.7449643394913539\n",
      "[0.76404637 0.77212904 0.76526357 0.75002927 0.70159324]\n",
      "0.7506122976913551\n",
      "-0.005647958200001191\n"
     ]
    }
   ],
   "source": [
    " #   LASSO\n",
    "\n",
    "from sklearn.linear_model import Lasso\n",
    "lasso=Lasso(alpha=0.0001,max_iter=1000,tol=0.1)\n",
    "lasso.fit(x_train,y_train)\n",
    "trainprediction666=lasso.predict(x_train)\n",
    "print(r2_score(y_train,trainprediction666))\n",
    "testprediction666=lasso.predict(x_test)\n",
    "print(r2_score(y_test,testprediction666))\n",
    "kfold=KFold(n_splits=5,shuffle=True)\n",
    "score666=cross_val_score(lasso,x,y,cv=kfold)\n",
    "print(score666)\n",
    "print(score666.mean())\n",
    "print((r2_score(y_test,testprediction666)-(score666.mean())))"
   ]
  },
  {
   "cell_type": "code",
   "execution_count": 58,
   "id": "0a9899c4-bfd1-4c43-9dd3-2ec46fec1b68",
   "metadata": {},
   "outputs": [
    {
     "name": "stdout",
     "output_type": "stream",
     "text": [
      "0.9988063522085905\n",
      "0.938750761729684\n",
      "[0.96415021 0.96695716 0.95044769 0.96141709 0.94685472]\n",
      "0.9579653717744655\n",
      "-0.019214610044781533\n"
     ]
    }
   ],
   "source": [
    " #   ExtraTreeRegressor\n",
    "\n",
    "from sklearn.ensemble import ExtraTreesRegressor\n",
    "m10=ExtraTreesRegressor()\n",
    "m10.fit(x_train,y_train)\n",
    "trainprediction10=m10.predict(x_train)\n",
    "print(r2_score(y_train,trainprediction10))\n",
    "testprediction10=m10.predict(x_test)\n",
    "print(r2_score(y_test,testprediction10))\n",
    "kfold=KFold(n_splits=5,shuffle=True)\n",
    "score10=cross_val_score(m10,x,y,cv=kfold)\n",
    "print(score10)\n",
    "print(score10.mean())\n",
    "print((r2_score(y_test,testprediction10)-(score10.mean())))"
   ]
  },
  {
   "cell_type": "code",
   "execution_count": null,
   "id": "a6266610-f4ca-467b-8333-7541adb1243e",
   "metadata": {},
   "outputs": [],
   "source": []
  },
  {
   "cell_type": "code",
   "execution_count": null,
   "id": "d7358dd1-a743-4514-ae88-909c09062988",
   "metadata": {},
   "outputs": [],
   "source": []
  }
 ],
 "metadata": {
  "kernelspec": {
   "display_name": "Python 3 (ipykernel)",
   "language": "python",
   "name": "python3"
  },
  "language_info": {
   "codemirror_mode": {
    "name": "ipython",
    "version": 3
   },
   "file_extension": ".py",
   "mimetype": "text/x-python",
   "name": "python",
   "nbconvert_exporter": "python",
   "pygments_lexer": "ipython3",
   "version": "3.12.7"
  }
 },
 "nbformat": 4,
 "nbformat_minor": 5
}
